{
 "cells": [
  {
   "cell_type": "code",
   "execution_count": null,
   "id": "f3ab7425-1c22-4f59-9dd2-c5b434f6c1bb",
   "metadata": {},
   "outputs": [],
   "source": [
    "#1. Which two operator overloading methods can you use in your classes to support iteration?\n",
    "\n",
    "Ans. _iter__ and __next__ are the operator overloading methods in python that support iteration and are collectively called iterator protocol.\n",
    "\n",
    "__iter__ returns the iterator object and is called at the start of loop in our respective class.\n",
    "__next__ is called at each loop increment, it returns the incremented value. Also Stopiteration is raised when there is no value to return."
   ]
  },
  {
   "cell_type": "code",
   "execution_count": null,
   "id": "a9fcd3ef-e504-4c23-9c3a-88f9e9fd3878",
   "metadata": {},
   "outputs": [],
   "source": [
    "#2. In what contexts do the two operator overloading methods manage printing?\n",
    "\n",
    "Ans. __str__ and __repr__ are two operator overloading methods that manage printing.\n",
    "\n",
    "1.In Short, the difference between both these operators is the goal of __repr__ is to be unambiguous and __str__ is to be readable.\n",
    "2.Whenever we are printing any object reference internally __str__ method will be called by default.\n",
    "3.The main purpose of __str__ is for readability. it prints the informal string representation of an object, one that is useful for printing the object. it may not be possible to convert result string to original object.\n",
    "4.__repr__ is used to print official string representation of an object, so it includes all information and development."
   ]
  },
  {
   "cell_type": "code",
   "execution_count": null,
   "id": "8d48125a-7aa7-4fbd-a39e-31061fc0d40c",
   "metadata": {},
   "outputs": [],
   "source": [
    "#3. In a class, how do you intercept slice operations?\n",
    "\n",
    "Ans. In a class use of slice() in __getitem__ method is used for intercept slice operation. \n",
    "This slice method is provided with start integer number, stop integer number and step integer number."
   ]
  },
  {
   "cell_type": "code",
   "execution_count": null,
   "id": "cae42101-5c02-494a-bf49-66595cfef6b2",
   "metadata": {},
   "outputs": [],
   "source": [
    "#4. In a class, how do you capture in-place addition?\n",
    "\n",
    "Ans. a+b is normal addition. Whereas a+=b is inplace addition operation. \n",
    "In this in-place addition a itself will store the value of addition. In a class __iadd__ method is used for this in-place operation"
   ]
  },
  {
   "cell_type": "code",
   "execution_count": null,
   "id": "5e8ebb94-7abc-474e-95a8-ba726ad38ab3",
   "metadata": {},
   "outputs": [],
   "source": [
    "#5. When is it appropriate to use operator overloading?\n",
    "\n",
    "Ans. Operator overloading is used when we want to use an operator other than its normal operation to have different meaning \n",
    "according to the context required in user defined function."
   ]
  }
 ],
 "metadata": {
  "kernelspec": {
   "display_name": "Python 3 (ipykernel)",
   "language": "python",
   "name": "python3"
  },
  "language_info": {
   "codemirror_mode": {
    "name": "ipython",
    "version": 3
   },
   "file_extension": ".py",
   "mimetype": "text/x-python",
   "name": "python",
   "nbconvert_exporter": "python",
   "pygments_lexer": "ipython3",
   "version": "3.10.6"
  }
 },
 "nbformat": 4,
 "nbformat_minor": 5
}
